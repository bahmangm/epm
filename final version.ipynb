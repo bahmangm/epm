{
 "cells": [
  {
   "cell_type": "markdown",
   "metadata": {},
   "source": [
    "# The required time to print the output:\n",
    "* Naive Matching Algorithm:  ** 0.293478 ** second\n",
    "* My proposed method:  ** 0.4673550000000002 ** second\n",
    "***"
   ]
  },
  {
   "cell_type": "markdown",
   "metadata": {},
   "source": [
    "# Naive Matching Algorithm"
   ]
  },
  {
   "cell_type": "code",
   "execution_count": 1,
   "metadata": {},
   "outputs": [
    {
     "name": "stdout",
     "output_type": "stream",
     "text": [
      "pattern :  or agree to also provide on request\n",
      "\n",
      "The list of exact matches:\n",
      "Pattern found at index  1209014\n",
      "\n",
      "\n",
      "\n",
      "Time elapsed:  0.293478\n"
     ]
    }
   ],
   "source": [
    "import time\n",
    "t0= time.clock()\n",
    "\n",
    "def search(pat, txt): \n",
    "    M = len(pat) \n",
    "    N = len(txt) \n",
    "  \n",
    "    # A loop to slide pat[] one by one */ \n",
    "    for i in range(N - M + 1): \n",
    "        j = 0\n",
    "          \n",
    "        # For current index i, check  \n",
    "        # for pattern match */ \n",
    "        while(j < M): \n",
    "            if (txt[i + j] != pat[j]): \n",
    "                break\n",
    "            j += 1\n",
    "  \n",
    "        if (j == M):  \n",
    "            print(\"Pattern found at index \", i) \n",
    "\n",
    "#read a text file and convert it to a string            \n",
    "f = open(\"/home/bahman/Downloads/datasets/L'homme_french.txt\", \"r\")\n",
    "line = f.read().replace(\"\\n\", \" \")\n",
    "f.close()\n",
    "\n",
    "pattern = \"or agree to also provide on request\"\n",
    "print(\"pattern : \", pattern)\n",
    "print(\"\\nThe list of exact matches:\")\n",
    "\n",
    "search(pattern, line)\n",
    "\n",
    "t1 = time.clock() - t0\n",
    "print(\"\\n\\n\\nTime elapsed: \", t1) # CPU seconds elapsed (floating point)"
   ]
  },
  {
   "cell_type": "markdown",
   "metadata": {},
   "source": [
    "# My proposed change"
   ]
  },
  {
   "cell_type": "code",
   "execution_count": 2,
   "metadata": {},
   "outputs": [
    {
     "name": "stdout",
     "output_type": "stream",
     "text": [
      "pattern :  or agree to also provide on request\n",
      "\n",
      "The list of exact matches:\n",
      "Pattern found at index 1209014\n",
      "\n",
      "\n",
      "\n",
      "Time elapsed:  0.4673550000000002\n"
     ]
    }
   ],
   "source": [
    "import time\n",
    "t0= time.clock()\n",
    "\n",
    "\n",
    "# get a string and returen a list of tuples ---> (word_location, word_length)\n",
    "def indexing_a_line(line):\n",
    "    if line[-1] != \" \":\n",
    "        line += \" \"\n",
    "    words =[]\n",
    "    last_location = 0\n",
    "    for ch in range(len(line)):\n",
    "        if line[ch] in [\" \"]:\n",
    "            words.append((ch - 1, ch - last_location))\n",
    "            last_location = ch + 1\n",
    "    return words\n",
    "\n",
    "\n",
    "#read a text file and convert it to a string            \n",
    "f = open(\"/home/bahman/Downloads/datasets/L'homme_french.txt\", \"r\")\n",
    "line = f.read().replace(\"\\n\", \" \")\n",
    "f.close()\n",
    "\n",
    "\n",
    "# converting the main text to a list of tuples (word_location, word_length)\n",
    "text_list =indexing_a_line(line) # a list of (word_location, word_length)\n",
    "\n",
    "\n",
    "# converting the pattern to a list of tuples (word_location, word_length)\n",
    "pattern = \"or agree to also provide on request\"\n",
    "pattern_list = indexing_a_line(pattern)\n",
    "\n",
    "\n",
    "if len(pattern_list) > 2:\n",
    "    window = len(pattern_list) - 2\n",
    "else:\n",
    "    #ToDo: using Prof. Saqib Hakak's method\n",
    "    exit()\n",
    "    \n",
    "\n",
    "possible_matches = []\n",
    "n = len(text_list)\n",
    "for i, (word_loc, length) in enumerate(text_list):\n",
    "    if i >= (n - window):\n",
    "        break\n",
    "    pattern_counter = 1\n",
    "    for word in range(i, i+window):\n",
    "        flag = True\n",
    "        if text_list[word][1] != pattern_list[pattern_counter][1]:\n",
    "            flag = False\n",
    "            break\n",
    "        pattern_counter +=1\n",
    "    if flag:\n",
    "        possible_matches.append((word_loc, length))\n",
    "\n",
    "\n",
    "# applying brute force procedure to determine exact matchings within possible_matches list\n",
    "print(\"pattern : \", pattern)\n",
    "print(\"\\nThe list of exact matches:\")\n",
    "for i in possible_matches:\n",
    "    #ToDo: explain the below line\n",
    "    if line[i[0] - pattern_list[1][0]:i[0] - pattern_list[1][0] + len(pattern)] == pattern :\n",
    "        print(\"Pattern found at index {}\".format(i[0] - pattern_list[1][0]))\n",
    " \n",
    "\n",
    "t1 = time.clock() - t0\n",
    "print(\"\\n\\n\\nTime elapsed: \", t1) # CPU seconds elapsed (floating point)"
   ]
  },
  {
   "cell_type": "code",
   "execution_count": null,
   "metadata": {},
   "outputs": [],
   "source": []
  }
 ],
 "metadata": {
  "kernelspec": {
   "display_name": "Python 3",
   "language": "python",
   "name": "python3"
  },
  "language_info": {
   "codemirror_mode": {
    "name": "ipython",
    "version": 3
   },
   "file_extension": ".py",
   "mimetype": "text/x-python",
   "name": "python",
   "nbconvert_exporter": "python",
   "pygments_lexer": "ipython3",
   "version": "3.6.4"
  }
 },
 "nbformat": 4,
 "nbformat_minor": 2
}
